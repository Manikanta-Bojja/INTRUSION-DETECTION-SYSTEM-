{
 "cells": [
  {
   "cell_type": "code",
   "execution_count": null,
   "metadata": {},
   "outputs": [],
   "source": [
    "import pandas as pd\n",
    "import os\n",
    "\n",
    "data_folder = \"\\Users\\bmani\\OneDrive\\Desktop\\Network Intrusion\"  \n",
    "\n",
    "# Get all CSV files in the folder\n",
    "csv_files = [f for f in os.listdir(data_folder) if f.endswith('.csv')]\n",
    "\n",
    "# Merge all CSVs\n",
    "df_list = []\n",
    "for file in csv_files:\n",
    "    file_path = os.path.join(data_folder, file)\n",
    "    temp_df = pd.read_csv(file_path, low_memory=False)\n",
    "    df_list.append(temp_df)\n",
    "    print(f\"Loaded {file} - Shape: {temp_df.shape}\")\n",
    "\n",
    "# Concatenate all datasets\n",
    "merged_df = pd.concat(df_list, ignore_index=True)\n",
    "print(f\"\\n Merged dataset shape: {merged_df.shape}\")\n",
    "\n",
    "# Save merged raw data\n",
    "merged_df.to_csv(\"merged_CIC_IDS2017.csv\", index=False)\n",
    "print(\"Raw merged dataset saved as 'merged_CIC_IDS2017.csv'\")\n"
   ]
  }
 ],
 "metadata": {
  "language_info": {
   "name": "python"
  }
 },
 "nbformat": 4,
 "nbformat_minor": 2
}
